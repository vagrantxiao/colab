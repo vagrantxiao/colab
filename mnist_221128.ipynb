{
  "nbformat": 4,
  "nbformat_minor": 0,
  "metadata": {
    "colab": {
      "provenance": [],
      "authorship_tag": "ABX9TyM0FFwKdixMHq4abaUZZFpm",
      "include_colab_link": true
    },
    "kernelspec": {
      "name": "python3",
      "display_name": "Python 3"
    },
    "language_info": {
      "name": "python"
    }
  },
  "cells": [
    {
      "cell_type": "markdown",
      "metadata": {
        "id": "view-in-github",
        "colab_type": "text"
      },
      "source": [
        "<a href=\"https://colab.research.google.com/github/vagrantxiao/colab/blob/main/mnist_221128.ipynb\" target=\"_parent\"><img src=\"https://colab.research.google.com/assets/colab-badge.svg\" alt=\"Open In Colab\"/></a>"
      ]
    },
    {
      "cell_type": "code",
      "execution_count": null,
      "metadata": {
        "id": "0a8EpGL995ci"
      },
      "outputs": [],
      "source": [
        "import numpy as np\n",
        "import matplotlib.pyplot as plt\n",
        "%matplotlib inline\n",
        "import keras\n",
        "from keras.models import Sequential\n",
        "from keras.layers import Dense, Dropout\n",
        "from sklearn.metrics import confusion_matrix\n",
        "import seaborn as sns\n",
        "\n",
        "np.random.seed(0)\n",
        "\n"
      ]
    },
    {
      "cell_type": "markdown",
      "source": [
        "# Data"
      ],
      "metadata": {
        "id": "5lFP2Y8E-yk6"
      }
    },
    {
      "cell_type": "code",
      "source": [
        "from keras.datasets import mnist\n",
        "(x_train, y_train), (x_test, y_test) = mnist.load_data()\n"
      ],
      "metadata": {
        "id": "Ysp9PgUY-00s"
      },
      "execution_count": null,
      "outputs": []
    },
    {
      "cell_type": "code",
      "source": [
        "print(x_train.shape, y_train.shape)\n",
        "print(x_test.shape, y_test.shape)"
      ],
      "metadata": {
        "colab": {
          "base_uri": "https://localhost:8080/"
        },
        "id": "dUq9OxKt_EYw",
        "outputId": "7124f2f0-00df-4757-8997-851c5befdac8"
      },
      "execution_count": null,
      "outputs": [
        {
          "output_type": "stream",
          "name": "stdout",
          "text": [
            "(60000, 28, 28) (60000,)\n",
            "(10000, 28, 28) (10000,)\n"
          ]
        }
      ]
    },
    {
      "cell_type": "code",
      "source": [
        "num_classes = 10\n",
        "f, ax = plt.subplots(1, num_classes,  figsize=(20, 20))\n",
        "\n",
        "for i in range(0, num_classes):\n",
        "  sample=x_train[y_train==i][0]\n",
        "  ax[i].imshow(sample, cmap='gray')\n",
        "  ax[i].set_title(\"Label: {}\".format(i), fontsize=16)\n",
        "  "
      ],
      "metadata": {
        "colab": {
          "base_uri": "https://localhost:8080/",
          "height": 160
        },
        "id": "HM_4XMjV_PUC",
        "outputId": "a59c16eb-ef10-48ff-e984-5faf9e25f72d"
      },
      "execution_count": null,
      "outputs": [
        {
          "output_type": "display_data",
          "data": {
            "text/plain": [
              "<Figure size 1440x1440 with 10 Axes>"
            ],
            "image/png": "[encoded data removed]"
          },
          "metadata": {
            "needs_background": "light"
          }
        }
      ]
    },
    {
      "cell_type": "code",
      "source": [
        "for i in range(10):\n",
        "  print(x_train[i])\n"
      ],
      "metadata": {
        "id": "mv0iGQu_AHZo"
      },
      "execution_count": null,
      "outputs": []
    },
    {
      "cell_type": "code",
      "source": [
        "y_train=keras.utils.to_categorical(y_train, num_classes)\n",
        "y_test=keras.utils.to_categorical(y_test, num_classes)"
      ],
      "metadata": {
        "id": "Jo0AcrklAQPq"
      },
      "execution_count": null,
      "outputs": []
    },
    {
      "cell_type": "code",
      "source": [
        "for i in range(10):\n",
        "  print(y_train[i])"
      ],
      "metadata": {
        "colab": {
          "base_uri": "https://localhost:8080/"
        },
        "id": "t8a13V-fAamB",
        "outputId": "b88e1c9c-f909-4fcb-991f-2b89eeb80f88"
      },
      "execution_count": null,
      "outputs": [
        {
          "output_type": "stream",
          "name": "stdout",
          "text": [
            "[0. 0. 0. 0. 0. 1. 0. 0. 0. 0.]\n",
            "[1. 0. 0. 0. 0. 0. 0. 0. 0. 0.]\n",
            "[0. 0. 0. 0. 1. 0. 0. 0. 0. 0.]\n",
            "[0. 1. 0. 0. 0. 0. 0. 0. 0. 0.]\n",
            "[0. 0. 0. 0. 0. 0. 0. 0. 0. 1.]\n",
            "[0. 0. 1. 0. 0. 0. 0. 0. 0. 0.]\n",
            "[0. 1. 0. 0. 0. 0. 0. 0. 0. 0.]\n",
            "[0. 0. 0. 1. 0. 0. 0. 0. 0. 0.]\n",
            "[0. 1. 0. 0. 0. 0. 0. 0. 0. 0.]\n",
            "[0. 0. 0. 0. 1. 0. 0. 0. 0. 0.]\n"
          ]
        }
      ]
    },
    {
      "cell_type": "markdown",
      "source": [
        "# Prepare Data"
      ],
      "metadata": {
        "id": "5bmMrNlqAmrD"
      }
    },
    {
      "cell_type": "code",
      "source": [
        "# Normalize Data\n",
        "x_train = x_train / 255.0\n",
        "y_test  = y_test / 255.0"
      ],
      "metadata": {
        "id": "PCegHNv0ApYJ"
      },
      "execution_count": null,
      "outputs": []
    },
    {
      "cell_type": "code",
      "source": [
        "# Reshape Data\n",
        "x_train = x_train.reshape(x_train.shape[0], -1)\n",
        "x_test = x_test.reshape(x_test.shape[0], -1)\n",
        "print(x_train.shape)"
      ],
      "metadata": {
        "colab": {
          "base_uri": "https://localhost:8080/"
        },
        "id": "G5uxZebJA8Hf",
        "outputId": "a2f71e4e-056c-4200-8c62-2343b4d32cce"
      },
      "execution_count": null,
      "outputs": [
        {
          "output_type": "stream",
          "name": "stdout",
          "text": [
            "(60000, 784)\n"
          ]
        }
      ]
    },
    {
      "cell_type": "markdown",
      "source": [
        "# Create Model - Fully COnnected Neural Network"
      ],
      "metadata": {
        "id": "n4i4xQzABhat"
      }
    },
    {
      "cell_type": "code",
      "source": [
        "model = Sequential()\n",
        "model.add(Dense(units=128, input_shape=(784,), activation='relu'))\n",
        "model.add(Dense(units=128, activation='relu'))\n",
        "model.add(Dropout(0.25))\n",
        "model.add(Dense(units=10, activation='softmax'))\n",
        "model.compile(loss='categorical_crossentropy', optimizer='adam', metrics=['accuracy'])\n",
        "model.summary()"
      ],
      "metadata": {
        "colab": {
          "base_uri": "https://localhost:8080/"
        },
        "id": "GDz5ejfXBlM8",
        "outputId": "d1564c27-da86-49d6-e9b9-50fa777fd72d"
      },
      "execution_count": null,
      "outputs": [
        {
          "output_type": "stream",
          "name": "stdout",
          "text": [
            "Model: \"sequential_1\"\n",
            "_________________________________________________________________\n",
            " Layer (type)                Output Shape              Param #   \n",
            "=================================================================\n",
            " dense_3 (Dense)             (None, 128)               100480    \n",
            "                                                                 \n",
            " dense_4 (Dense)             (None, 128)               16512     \n",
            "                                                                 \n",
            " dropout_1 (Dropout)         (None, 128)               0         \n",
            "                                                                 \n",
            " dense_5 (Dense)             (None, 10)                1290      \n",
            "                                                                 \n",
            "=================================================================\n",
            "Total params: 118,282\n",
            "Trainable params: 118,282\n",
            "Non-trainable params: 0\n",
            "_________________________________________________________________\n"
          ]
        }
      ]
    },
    {
      "cell_type": "markdown",
      "source": [
        "Train"
      ],
      "metadata": {
        "id": "2ZKZtrqoCO-b"
      }
    },
    {
      "cell_type": "code",
      "source": [
        "batch_size = 512\n",
        "epochs = 10\n",
        "model.fit(x=x_train, y=y_train, batch_size=batch_size, epochs=epochs)"
      ],
      "metadata": {
        "colab": {
          "base_uri": "https://localhost:8080/"
        },
        "id": "kFBUdeiHCS4d",
        "outputId": "452dad2f-975c-439f-f42d-a7560295bf4d"
      },
      "execution_count": null,
      "outputs": [
        {
          "output_type": "stream",
          "name": "stdout",
          "text": [
            "Epoch 1/10\n",
            "118/118 [==============================] - 2s 12ms/step - loss: 0.6162 - accuracy: 0.8224\n",
            "Epoch 2/10\n",
            "118/118 [==============================] - 1s 12ms/step - loss: 0.2250 - accuracy: 0.9355\n",
            "Epoch 3/10\n",
            "118/118 [==============================] - 1s 12ms/step - loss: 0.1622 - accuracy: 0.9523\n",
            "Epoch 4/10\n",
            "118/118 [==============================] - 1s 12ms/step - loss: 0.1265 - accuracy: 0.9631\n",
            "Epoch 5/10\n",
            "118/118 [==============================] - 1s 12ms/step - loss: 0.1049 - accuracy: 0.9689\n",
            "Epoch 6/10\n",
            "118/118 [==============================] - 1s 12ms/step - loss: 0.0866 - accuracy: 0.9749\n",
            "Epoch 7/10\n",
            "118/118 [==============================] - 1s 11ms/step - loss: 0.0766 - accuracy: 0.9767\n",
            "Epoch 8/10\n",
            "118/118 [==============================] - 1s 12ms/step - loss: 0.0655 - accuracy: 0.9804\n",
            "Epoch 9/10\n",
            "118/118 [==============================] - 1s 12ms/step - loss: 0.0589 - accuracy: 0.9820\n",
            "Epoch 10/10\n",
            "118/118 [==============================] - 1s 12ms/step - loss: 0.0512 - accuracy: 0.9843\n"
          ]
        },
        {
          "output_type": "execute_result",
          "data": {
            "text/plain": [
              "<keras.callbacks.History at 0x7f5229998250>"
            ]
          },
          "metadata": {},
          "execution_count": 47
        }
      ]
    },
    {
      "cell_type": "markdown",
      "source": [
        "Evaluate"
      ],
      "metadata": {
        "id": "mWeFvck7Ci5p"
      }
    },
    {
      "cell_type": "code",
      "source": [
        "print(x_test.shape)\n",
        "print(y_test.shape)\n",
        "test_loss, test_acc = model.evaluate(x_test, y_test)\n",
        "print(\"Test Loss: {}, Test Accuracy: {}\".format(test_loss, test_acc))"
      ],
      "metadata": {
        "colab": {
          "base_uri": "https://localhost:8080/"
        },
        "id": "68ALzJHfCj_X",
        "outputId": "632f98d9-04d6-484d-8e0d-55e459af6c51"
      },
      "execution_count": null,
      "outputs": [
        {
          "output_type": "stream",
          "name": "stdout",
          "text": [
            "(10000, 784)\n",
            "(10000, 10)\n",
            "313/313 [==============================] - 1s 4ms/step - loss: 0.0474 - accuracy: 0.9771\n",
            "Test Loss: 0.04736986383795738, Test Accuracy: 0.9771000146865845\n"
          ]
        }
      ]
    },
    {
      "cell_type": "code",
      "source": [
        "y_pred=model.predict(x_test)\n",
        "y_pred_classes=np.argmax(y_pred, axis=1)\n",
        "print(y_pred)\n",
        "print(y_pred_classes)"
      ],
      "metadata": {
        "colab": {
          "base_uri": "https://localhost:8080/"
        },
        "id": "AmsdZ_FOD3u3",
        "outputId": "a4c17781-463f-457f-aff6-19ce9c7c17e7"
      },
      "execution_count": null,
      "outputs": [
        {
          "output_type": "stream",
          "name": "stdout",
          "text": [
            "313/313 [==============================] - 1s 3ms/step\n",
            "[[0.         0.         0.         ... 0.99999994 0.         0.        ]\n",
            " [0.         0.         0.99999994 ... 0.         0.         0.        ]\n",
            " [0.         0.99999994 0.         ... 0.         0.         0.        ]\n",
            " ...\n",
            " [0.         0.         0.         ... 0.         0.         0.        ]\n",
            " [0.         0.         0.         ... 0.         0.         0.        ]\n",
            " [0.         0.         0.         ... 0.         0.         0.        ]]\n",
            "[7 2 1 ... 4 5 6]\n"
          ]
        }
      ]
    },
    {
      "cell_type": "code",
      "source": [
        "# single Exmple\n",
        "random_idx = np.random.choice(len(x_test))\n",
        "x_sample = x_test[random_idx]\n",
        "y_true = np.argmax(y_test, axis=1)\n",
        "y_sample_true = y_true[random_idx]\n",
        "y_sample_pred_class = y_pred_classes[random_idx]\n",
        "\n",
        "plt.title(\"Predicted: {}, True: {}\".format(y_sample_pred_class, y_sample_true), fontsize=16)\n",
        "plt.imshow(x_sample.reshape(28, 28), cmap='gray')\n"
      ],
      "metadata": {
        "colab": {
          "base_uri": "https://localhost:8080/",
          "height": 300
        },
        "id": "la9igjCDEEz_",
        "outputId": "025abc1e-6898-413e-ff84-207fa497411b"
      },
      "execution_count": null,
      "outputs": [
        {
          "output_type": "execute_result",
          "data": {
            "text/plain": [
              "<matplotlib.image.AxesImage at 0x7f52274f0c90>"
            ]
          },
          "metadata": {},
          "execution_count": 52
        },
        {
          "output_type": "display_data",
          "data": {
            "text/plain": [
              "<Figure size 432x288 with 1 Axes>"
            ],
            "image/png": "[encoded data removed]"
          },
          "metadata": {
            "needs_background": "light"
          }
        }
      ]
    },
    {
      "cell_type": "markdown",
      "source": [
        "Confusion Matrix"
      ],
      "metadata": {
        "id": "Ma2qYo68E7_g"
      }
    },
    {
      "cell_type": "code",
      "source": [
        "confusion_mtx = confusion_matrix(y_true, y_pred_classes)\n",
        "\n",
        "#plot\n",
        "fig, ax = plt.subplots(figsize=(15, 10))\n",
        "ax = sns.heatmap(confusion_mtx, annot=True, fmt='d', ax=ax, cmap='Blues')\n",
        "ax.set_xlabel('Predicted_Label')\n",
        "ax.set_ylabel('True Label')\n",
        "ax.set_title('Confusion Matrix')"
      ],
      "metadata": {
        "colab": {
          "base_uri": "https://localhost:8080/",
          "height": 639
        },
        "id": "hhNgg7UME9lL",
        "outputId": "c6304fbf-8167-4369-b1e2-7226a0957868"
      },
      "execution_count": null,
      "outputs": [
        {
          "output_type": "execute_result",
          "data": {
            "text/plain": [
              "Text(0.5, 1.0, 'Confusion Matrix')"
            ]
          },
          "metadata": {},
          "execution_count": 53
        },
        {
          "output_type": "display_data",
          "data": {
            "text/plain": [
              "<Figure size 1080x720 with 2 Axes>"
            ],
            "image/png": "[encoded data removed]"
          },
          "metadata": {
            "needs_background": "light"
          }
        }
      ]
    },
    {
      "cell_type": "markdown",
      "source": [
        "Investigate Some Errors"
      ],
      "metadata": {
        "id": "NpTM4ItHF8sP"
      }
    },
    {
      "cell_type": "code",
      "source": [
        "errors = (y_pred_classes-y_true !=0)\n",
        "y_pred_classes_errors = y_pred_classes[errors]\n",
        "y_pred_errors = y_pred[errors]\n",
        "y_true_errors = y_true[errors]\n",
        "x_test_errors = x_test[errors]\n"
      ],
      "metadata": {
        "id": "1LdJcJAPGAV6"
      },
      "execution_count": null,
      "outputs": []
    },
    {
      "cell_type": "code",
      "source": [
        "y_pred_errors_probability = np.max(y_pred_errors, axis=1)\n",
        "true_probability_errors  = np.diagonal(np.take(y_pred_errors, y_true_errors, axis=1))\n",
        "diff_errors_pred_true = y_pred_errors_probability - true_probability_errors\n",
        "\n",
        "# Get list of indices of sorted differences\n",
        "sorted_idx_diff_errors = np.argsort(diff_errors_pred_true)\n",
        "top_idx_diff_errors = sorted_idx_diff_errors[-5:]\n",
        "\n"
      ],
      "metadata": {
        "id": "1woCUJaoGY2s"
      },
      "execution_count": null,
      "outputs": []
    },
    {
      "cell_type": "code",
      "source": [
        "#Show Top Errors\n",
        "num = len(top_idx_diff_errors)\n",
        "f, ax = plt.subplots(1, num , figsize=(20, 20))\n",
        "for i in range(0, num):\n",
        "  idx = top_idx_diff_errors[i]\n",
        "  sample = x_test_errors[idx].reshape(28, 28)\n",
        "  y_t = y_true_errors[idx]\n",
        "  y_p = y_pred_classes_errors[idx]\n",
        "  ax[i].imshow(sample, cmap='gray')\n",
        "  ax[i].set_title(\"Predicted label :{}\\nTrue lable: {}\".format(y_p, y_t), fontsize=22)"
      ],
      "metadata": {
        "colab": {
          "base_uri": "https://localhost:8080/",
          "height": 286
        },
        "id": "g7pywymaHO-r",
        "outputId": "72b39c06-5571-4690-9972-e1078d603ab6"
      },
      "execution_count": null,
      "outputs": [
        {
          "output_type": "display_data",
          "data": {
            "text/plain": [
              "<Figure size 1440x1440 with 5 Axes>"
            ],
            "image/png": "[encoded data removed]"
          },
          "metadata": {
            "needs_background": "light"
          }
        }
      ]
    }
  ]
}