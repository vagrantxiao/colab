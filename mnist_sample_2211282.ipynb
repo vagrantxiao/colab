{
  "nbformat": 4,
  "nbformat_minor": 0,
  "metadata": {
    "colab": {
      "provenance": [],
      "authorship_tag": "ABX9TyOFIWqezNNTaurnfaNs4BnB",
      "include_colab_link": true
    },
    "kernelspec": {
      "name": "python3",
      "display_name": "Python 3"
    },
    "language_info": {
      "name": "python"
    }
  },
  "cells": [
    {
      "cell_type": "markdown",
      "metadata": {
        "id": "view-in-github",
        "colab_type": "text"
      },
      "source": [
        "<a href=\"https://colab.research.google.com/github/vagrantxiao/colab/blob/main/mnist_sample_2211282.ipynb\" target=\"_parent\"><img src=\"https://colab.research.google.com/assets/colab-badge.svg\" alt=\"Open In Colab\"/></a>"
      ]
    },
    {
      "cell_type": "code",
      "execution_count": null,
      "metadata": {
        "colab": {
          "base_uri": "https://localhost:8080/",
          "height": 195
        },
        "id": "SNIflCrTJ7cq",
        "outputId": "f858345e-5507-48c3-9137-8fe3e5944a4c"
      },
      "outputs": [
        {
          "output_type": "stream",
          "name": "stdout",
          "text": [
            "(60000, 28, 28) (60000,)\n",
            "(10000, 28, 28) (10000,)\n"
          ]
        },
        {
          "output_type": "display_data",
          "data": {
            "text/plain": [
              "<Figure size 1440x1440 with 10 Axes>"
            ],
            "image/png": "[encoded data removed]"
          },
          "metadata": {
            "needs_background": "light"
          }
        }
      ],
      "source": [
        "import numpy as np\n",
        "import matplotlib.pyplot as plt\n",
        "%matplotlib inline\n",
        "import keras\n",
        "from keras.models import Sequential\n",
        "from keras.layers import Dense, Dropout\n",
        "from sklearn.metrics import confusion_matrix\n",
        "import seaborn as sns\n",
        "\n",
        "np.random.seed(0)\n",
        "\n",
        "from keras.datasets import mnist\n",
        "(x_train, y_train), (x_test, y_test) = mnist.load_data()\n",
        "print(x_train.shape, y_train.shape)\n",
        "print(x_test.shape, y_test.shape)\n",
        "num_classes = 10\n",
        "f, ax = plt.subplots(1, num_classes,  figsize=(20, 20))\n",
        "\n",
        "for i in range(0, num_classes):\n",
        "  sample=x_train[y_train==i][0]\n",
        "  ax[i].imshow(sample, cmap='gray')\n",
        "  ax[i].set_title(\"Label: {}\".format(i), fontsize=16)\n",
        "  "
      ]
    },
    {
      "cell_type": "code",
      "source": [
        "# Code to read csv file into Colaboratory:\n",
        "!pip install -U -q PyDrive\n",
        "from pydrive.auth import GoogleAuth\n",
        "from pydrive.drive import GoogleDrive\n",
        "from google.colab import auth\n",
        "from oauth2client.client import GoogleCredentials\n",
        "# Authenticate and create the PyDrive client.\n",
        "auth.authenticate_user()\n",
        "gauth = GoogleAuth()\n",
        "gauth.credentials = GoogleCredentials.get_application_default()\n",
        "drive = GoogleDrive(gauth)\n",
        "from google.colab import drive\n",
        "drive.mount('/content/drive')"
      ],
      "metadata": {
        "colab": {
          "base_uri": "https://localhost:8080/"
        },
        "id": "L75QMa4RdJAk",
        "outputId": "75830464-a130-49fb-e361-f4a4e2ecfe39"
      },
      "execution_count": null,
      "outputs": [
        {
          "output_type": "stream",
          "name": "stdout",
          "text": [
            "Mounted at /content/drive\n"
          ]
        }
      ]
    },
    {
      "cell_type": "code",
      "source": [
        "\n"
      ],
      "metadata": {
        "id": "wDWQS0vEdvFt"
      },
      "execution_count": null,
      "outputs": []
    },
    {
      "cell_type": "code",
      "source": [
        "print(x_train.shape)\n",
        "\n",
        "dataset_files = []\n",
        "for i in range(10): dataset_files.append(open('/content/drive/My Drive/mnist/dataset'+str(i)+'.txt', 'w'))\n",
        "\n",
        "N=60000\n",
        "#f, ax = plt.subplots(N, 1, figsize=(30, 30))\n",
        "\n",
        "new_s_list = []\n",
        "for s in range(N):\n",
        "  if s%1000==0: print(s)\n",
        "  my_list = []\n",
        "  for i in range(14):\n",
        "    for j in range(14):\n",
        "      if x_train[s][2*i][2*j] > 0:\n",
        "        my_list.append(1)\n",
        "      else:\n",
        "        my_list.append(0)\n",
        "\n",
        "  out_str=''\n",
        "  for i in range(6):\n",
        "    out_int = 0\n",
        "    for j in range(i*32, i*32+32): out_int = (out_int << 1)+my_list[j]\n",
        "    if i%2 == 0:\n",
        "      out_str +='0x'+str(hex(out_int).replace('0x', '').zfill(8))\n",
        "    else:\n",
        "      out_str +=str(hex(out_int).replace('0x', '').zfill(8))+', '\n",
        "    \n",
        "  \n",
        "  out_int = 0\n",
        "  for j in range(192, 196): out_int = (out_int << 1)+my_list[j]\n",
        "  out_str +='0x'+str(hex(out_int).replace('0x', '').zfill(8))+'00000000,'\n",
        "\n",
        "  # print(out_str)\n",
        "  dataset_files[int(y_train[s])].write(out_str+'\\n')\n",
        "\n",
        "  np_list = np.array(my_list)\n",
        "  # ax[s].imshow(np_list.reshape(14, 14), cmap='gray')\n",
        "  # ax[s].set_title(\"Label={}\".format(y_train[s]))\n",
        "\n",
        "for i in range(10): dataset_files[i].close()"
      ],
      "metadata": {
        "id": "ZqHY1xvXOOM4"
      },
      "execution_count": null,
      "outputs": []
    },
    {
      "cell_type": "code",
      "source": [
        "print(x_test.shape)\n",
        "\n",
        "test_data_file = open('/content/drive/My Drive/mnist/test.txt', 'w')\n",
        "test_label_file = open('/content/drive/My Drive/mnist/test_label.txt', 'w')\n",
        "\n",
        "N=10000\n",
        "#f, ax = plt.subplots(N, 1, figsize=(30, 30))\n",
        "\n",
        "new_s_list = []\n",
        "for s in range(N):\n",
        "  if s%1000==0: print(s)\n",
        "  test_label_file.write(str(y_test[s])+'\\n')\n",
        "  my_list = []\n",
        "  for i in range(14):\n",
        "    for j in range(14):\n",
        "      if x_test[s][2*i][2*j] > 0:\n",
        "        my_list.append(1)\n",
        "      else:\n",
        "        my_list.append(0)\n",
        "\n",
        "  out_str=''\n",
        "  for i in range(6):\n",
        "    out_int = 0\n",
        "    for j in range(i*32, i*32+32): out_int = (out_int << 1)+my_list[j]\n",
        "    if i%2 == 0:\n",
        "      out_str +='0x'+str(hex(out_int).replace('0x', '').zfill(8))\n",
        "    else:\n",
        "      out_str +=str(hex(out_int).replace('0x', '').zfill(8))+', '\n",
        "    \n",
        "  \n",
        "  out_int = 0\n",
        "  for j in range(192, 196): out_int = (out_int << 1)+my_list[j]\n",
        "  out_str +='0x'+str(hex(out_int).replace('0x', '').zfill(8))+'00000000,'\n",
        "\n",
        "  #print(out_str)\n",
        "  test_data_file.write(out_str+'\\n')\n",
        "\n",
        "  np_list = np.array(my_list)\n",
        "  #ax[s].imshow(np_list.reshape(14, 14), cmap='gray')\n",
        "  #ax[s].set_title(\"Label={}\".format(y_test[s]))\n",
        "\n",
        "test_data_file.close()\n",
        "test_label_file.close()"
      ],
      "metadata": {
        "colab": {
          "base_uri": "https://localhost:8080/"
        },
        "id": "kGn3AXutPnIq",
        "outputId": "d2ffc995-7d0a-4ba8-ffed-2dc01ee1cfec"
      },
      "execution_count": null,
      "outputs": [
        {
          "output_type": "stream",
          "name": "stdout",
          "text": [
            "(10000, 28, 28)\n",
            "0\n",
            "1000\n",
            "2000\n",
            "3000\n",
            "4000\n",
            "5000\n",
            "6000\n",
            "7000\n",
            "8000\n",
            "9000\n"
          ]
        }
      ]
    }
  ]
}